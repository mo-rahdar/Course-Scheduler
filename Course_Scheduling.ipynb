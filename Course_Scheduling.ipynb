{
 "cells": [
  {
   "cell_type": "markdown",
   "id": "3ee3d587-7ed9-43be-9195-563c9ab71869",
   "metadata": {},
   "source": [
    "<div class='alert alert-info'>\n",
    "    <h1 align=\"center\">Course Scheduler</h1>\n",
    "    <h3 align=\"center\">Mohammad Rahdar</h3>    \n",
    "</div>\n",
    "\n",
    "Welcome to the **Course Scheduler App**! 🎓  \n",
    "\n",
    "<u><a href=\"https://github.com/mo-rahdar/Course-Scheduler/\" target=\"_blank\">GitHub Link</a></u> \r\n",
    "\r\n",
    "- Upload your **Courses_info.xlsx** file using the button below.  \r\n",
    "- Click **Run Scheduler** to generate an optimized course schedule.  \r\n",
    "- The results will include:  \r\n",
    "  - A saved file `Schedule_results.xlsx` with the schedule.  \r\n",
    "  - Plots showing course assignments, conflicts, and available meeting times.  \r\n",
    "\r\n",
    "👉 Once finished, you can download and optionally modify the schedule.  \r\n",
    "If you make changes, use the **Schedule Checker App** (see Binder link in README) to validate your edits.\r\n"
   ]
  },
  {
   "cell_type": "code",
   "execution_count": 1,
   "id": "21133fdc-54e7-4135-92f6-2266589643ba",
   "metadata": {},
   "outputs": [
    {
     "data": {
      "application/vnd.jupyter.widget-view+json": {
       "model_id": "c573109d150e48d990344c4c526caf14",
       "version_major": 2,
       "version_minor": 0
      },
      "text/plain": [
       "HTML(value='<h3>1️⃣ Generate a Schedule</h3>')"
      ]
     },
     "metadata": {},
     "output_type": "display_data"
    },
    {
     "data": {
      "application/vnd.jupyter.widget-view+json": {
       "model_id": "8ba645b04c364bdeb5cb72a2dde844d1",
       "version_major": 2,
       "version_minor": 0
      },
      "text/plain": [
       "FileUpload(value=(), accept='.xlsx', description='Upload Input Excel')"
      ]
     },
     "metadata": {},
     "output_type": "display_data"
    },
    {
     "data": {
      "application/vnd.jupyter.widget-view+json": {
       "model_id": "e55736a163d64b97a078e775e871ccc3",
       "version_major": 2,
       "version_minor": 0
      },
      "text/plain": [
       "Button(button_style='success', description='Run Scheduler', style=ButtonStyle())"
      ]
     },
     "metadata": {},
     "output_type": "display_data"
    },
    {
     "data": {
      "application/vnd.jupyter.widget-view+json": {
       "model_id": "e444e160082f46cdb7043db7bdb8a73f",
       "version_major": 2,
       "version_minor": 0
      },
      "text/plain": [
       "HTML(value='<h3>2️⃣ Check a Modified Schedule</h3>')"
      ]
     },
     "metadata": {},
     "output_type": "display_data"
    },
    {
     "data": {
      "application/vnd.jupyter.widget-view+json": {
       "model_id": "40c7e7b425e74e11b36dc42aaf053458",
       "version_major": 2,
       "version_minor": 0
      },
      "text/plain": [
       "FileUpload(value=(), accept='.xlsx', description='Upload Results Excel')"
      ]
     },
     "metadata": {},
     "output_type": "display_data"
    },
    {
     "data": {
      "application/vnd.jupyter.widget-view+json": {
       "model_id": "c0865a88b1de4224ad305d305fdb69d0",
       "version_major": 2,
       "version_minor": 0
      },
      "text/plain": [
       "Button(button_style='info', description='Check Schedule', style=ButtonStyle())"
      ]
     },
     "metadata": {},
     "output_type": "display_data"
    },
    {
     "data": {
      "application/vnd.jupyter.widget-view+json": {
       "model_id": "d8746999efdd48d8b224274c9fa49160",
       "version_major": 2,
       "version_minor": 0
      },
      "text/plain": [
       "Output()"
      ]
     },
     "metadata": {},
     "output_type": "display_data"
    }
   ],
   "source": [
    "import traceback\n",
    "from IPython.display import display, clear_output, HTML\n",
    "import ipywidgets as widgets\n",
    "import Utils\n",
    "import os\n",
    "\n",
    "# Widgets\n",
    "upload_input = widgets.FileUpload(accept='.xlsx', multiple=False, description='Upload Input Excel')\n",
    "run_btn = widgets.Button(description='Run Scheduler', button_style='success')\n",
    "\n",
    "upload_result = widgets.FileUpload(accept='.xlsx', multiple=False, description='Upload Results Excel')\n",
    "check_btn = widgets.Button(description='Check Schedule', button_style='info')\n",
    "\n",
    "out = widgets.Output()\n",
    "\n",
    "# Display both workflows\n",
    "display(widgets.HTML(\"<h3>1️⃣ Generate a Schedule</h3>\"))\n",
    "display(upload_input, run_btn)\n",
    "display(widgets.HTML(\"<h3>2️⃣ Check a Modified Schedule</h3>\"))\n",
    "display(upload_result, check_btn)\n",
    "display(out)\n",
    "\n",
    "\n",
    "# callbacks\n",
    "def on_run_clicked(b):\n",
    "    with out:\n",
    "        clear_output()\n",
    "        if not upload_input.value:\n",
    "            print(\"Please upload an Excel (.xlsx) file first.\")\n",
    "            return\n",
    "        try:\n",
    "            fname = Utils.save_uploaded_file(upload_input, mode='scheduler')\n",
    "            print(\"Saved uploaded file as\", fname)\n",
    "\n",
    "            # Run your pipeline → return path of generated file\n",
    "            result_file = Utils.run_pipeline(fname)\n",
    "\n",
    "            print(\"\\nGenerated file:\", result_file)\n",
    "            print(\"Exists:\", os.path.exists(result_file))\n",
    "            if os.path.exists(result_file):\n",
    "                print(\"Size (bytes):\", os.path.getsize(result_file))\n",
    "\n",
    "            # Show in-page download link using base64 embedding\n",
    "            Utils.create_download_link(result_file, label=\"⬇️ Download Schedule Results\")\n",
    "\n",
    "            # show files after run (helpful for debugging)\n",
    "            print(\"\\nFiles after run:\", os.listdir())\n",
    "  \n",
    "\n",
    "            # print(\"🎉 Scheduling complete.\")\n",
    "            # display(HTML(f'<a href=\"{result_file}\" download>⬇️ Download Schedule Results</a>'))\n",
    "\n",
    "        except Exception as e:\n",
    "            print(\"❌ Error during run:\")\n",
    "            traceback.print_exc()\n",
    "\n",
    "\n",
    "def on_check_clicked(b):\n",
    "    with out:\n",
    "        clear_output()\n",
    "        if not upload_result.value:\n",
    "            print(\"Please upload a Schedule_results.xlsx file first.\")\n",
    "            return\n",
    "        try:\n",
    "            fname = Utils.save_uploaded_file(upload_result, mode='check')\n",
    "            print(\"Saved uploaded results as\", fname)\n",
    "\n",
    "            # Run your check pipeline → return path of generated file\n",
    "            result_file = Utils.run_check_pipeline(fname)\n",
    "\n",
    "            \n",
    "            print(\"✅ Check complete.\")\n",
    "            # display(HTML(f'<a href=\"{result_file}\" download>⬇️ Download Check Report</a>'))\n",
    "\n",
    "        except Exception as e:\n",
    "            print(\"❌ Error during check:\")\n",
    "            traceback.print_exc()\n",
    "\n",
    "# connect buttons\n",
    "run_btn.on_click(on_run_clicked)\n",
    "check_btn.on_click(on_check_clicked)\n"
   ]
  }
 ],
 "metadata": {
  "kernelspec": {
   "display_name": "Python 3 (ipykernel)",
   "language": "python",
   "name": "python3"
  },
  "language_info": {
   "codemirror_mode": {
    "name": "ipython",
    "version": 3
   },
   "file_extension": ".py",
   "mimetype": "text/x-python",
   "name": "python",
   "nbconvert_exporter": "python",
   "pygments_lexer": "ipython3",
   "version": "3.8.18"
  }
 },
 "nbformat": 4,
 "nbformat_minor": 5
}
