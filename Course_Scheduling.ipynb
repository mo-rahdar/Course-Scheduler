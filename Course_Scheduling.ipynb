{
 "cells": [
  {
   "cell_type": "markdown",
   "id": "3ee3d587-7ed9-43be-9195-563c9ab71869",
   "metadata": {},
   "source": [
    "<div class='alert alert-info'>\n",
    "    <h1 align=\"center\">Course Scheduler</h1>\n",
    "    <h3 align=\"center\">Mohammad Rahdar</h3>    \n",
    "</div>\n",
    "\n",
    "Welcome to the **Course Scheduler App**! 🎓  \n",
    "\n",
    "<u><a href=\"https://github.com/mo-rahdar/Course-Scheduler/\" target=\"_blank\">GitHub Link</a></u> \r\n",
    "\r\n",
    "- Upload your **Courses_info.xlsx** file using the button below.  \r\n",
    "- Click **Run Scheduler** to generate an optimized course schedule.  \r\n",
    "- The results will include:  \r\n",
    "  - A saved file `Schedule_results.xlsx` with the schedule.  \r\n",
    "  - Plots showing course assignments, conflicts, and available meeting times.  \r\n",
    "\r\n",
    "👉 Once finished, you can download and optionally modify the schedule.  \r\n",
    "If you make changes, use the **Schedule Checker App** to validate your edits.\r\n",
    "\r\n",
    "GitHub link: https://github.com/mo-rahdar/Course-Scheduler/ \r\n"
   ]
  },
  {
   "cell_type": "code",
   "execution_count": 18,
   "id": "21133fdc-54e7-4135-92f6-2266589643ba",
   "metadata": {},
   "outputs": [
    {
     "data": {
      "application/vnd.jupyter.widget-view+json": {
       "model_id": "0c68928c6e1244898daa38cd0aa56780",
       "version_major": 2,
       "version_minor": 0
      },
      "text/plain": [
       "HTML(value='<h3>1️⃣ Generate a Schedule</h3>')"
      ]
     },
     "metadata": {},
     "output_type": "display_data"
    },
    {
     "data": {
      "application/vnd.jupyter.widget-view+json": {
       "model_id": "07a49fa8ff8c4b28bad30c60d6f52908",
       "version_major": 2,
       "version_minor": 0
      },
      "text/plain": [
       "FileUpload(value=(), accept='.xlsx', description='Upload Input Excel')"
      ]
     },
     "metadata": {},
     "output_type": "display_data"
    },
    {
     "data": {
      "application/vnd.jupyter.widget-view+json": {
       "model_id": "5239f6f71ffc497b8f21faa1a8bdce8e",
       "version_major": 2,
       "version_minor": 0
      },
      "text/plain": [
       "Button(button_style='success', description='Run Scheduler', style=ButtonStyle())"
      ]
     },
     "metadata": {},
     "output_type": "display_data"
    },
    {
     "data": {
      "application/vnd.jupyter.widget-view+json": {
       "model_id": "4db349cd6736454f935e96f439ecdc9a",
       "version_major": 2,
       "version_minor": 0
      },
      "text/plain": [
       "HTML(value='<h3>2️⃣ Check a Modified Schedule</h3>')"
      ]
     },
     "metadata": {},
     "output_type": "display_data"
    },
    {
     "data": {
      "application/vnd.jupyter.widget-view+json": {
       "model_id": "c9e483de4e0c483aaa8ffad8a875bab5",
       "version_major": 2,
       "version_minor": 0
      },
      "text/plain": [
       "FileUpload(value=(), accept='.xlsx', description='Upload Results Excel')"
      ]
     },
     "metadata": {},
     "output_type": "display_data"
    },
    {
     "data": {
      "application/vnd.jupyter.widget-view+json": {
       "model_id": "c26641f179b34ff38a221743def7d00e",
       "version_major": 2,
       "version_minor": 0
      },
      "text/plain": [
       "Button(button_style='info', description='Check Schedule', style=ButtonStyle())"
      ]
     },
     "metadata": {},
     "output_type": "display_data"
    },
    {
     "data": {
      "application/vnd.jupyter.widget-view+json": {
       "model_id": "fe7ac228999549b985919058c5f6e813",
       "version_major": 2,
       "version_minor": 0
      },
      "text/plain": [
       "Output()"
      ]
     },
     "metadata": {},
     "output_type": "display_data"
    }
   ],
   "source": [
    "import traceback\n",
    "from IPython.display import display, clear_output, HTML\n",
    "import ipywidgets as widgets\n",
    "import Utils\n",
    "\n",
    "# Widgets\n",
<<<<<<< HEAD
    "upload_input = widgets.FileUpload(accept='.xlsx', multiple=False, description='Upload Input Excel')\n",
=======
    "\n",
    "upload_input = widgets.FileUpload(accept='.xlsx', multiple=False, description='Upload Excel')\n",
>>>>>>> 2b8cc1c5c11e243313f9b6eab33601d9d6bcb1e3
    "run_btn = widgets.Button(description='Run Scheduler', button_style='success')\n",
    "\n",
    "upload_result = widgets.FileUpload(accept='.xlsx', multiple=False, description='Upload Schedule')\n",
    "check_btn = widgets.Button(description='Check Schedule', button_style='info')\n",
    "\n",
    "out = widgets.Output()\n",
    "\n",
    "# Display both workflows\n",
    "display(widgets.HTML(\"<h3>1️⃣ Generate a Schedule</h3>\"))\n",
    "display(upload_input, run_btn)\n",
    "display(widgets.HTML(\"<h3>2️⃣ Check a Modified Schedule</h3>\"))\n",
    "display(upload_result, check_btn)\n",
    "display(out)\n",
    "\n",
    "\n",
    "# callbacks\n",
    "def on_run_clicked(b):\n",
    "    with out:\n",
    "        clear_output()\n",
    "        if not upload_input.value:\n",
    "            print(\"Please upload an Excel (.xlsx) file first.\")\n",
    "            return\n",
    "        try:\n",
    "            fname = Utils.save_uploaded_file(upload_input, mode='scheduler')\n",
    "            print(\"Saved uploaded file as\", fname)\n",
    "\n",
    "            # Run your pipeline → return path of generated file\n",
    "            result_file = Utils.run_pipeline(fname)\n",
    "\n",
    "            print(\"🎉 Scheduling complete.\")\n",
    "            display(HTML(f'<a href=\"{result_file}\" download>⬇️ Download Schedule Results</a>'))\n",
    "\n",
    "        except Exception as e:\n",
    "            print(\"❌ Error during run:\")\n",
    "            traceback.print_exc()\n",
    "\n",
    "\n",
    "def on_check_clicked(b):\n",
    "    with out:\n",
    "        clear_output()\n",
    "        if not upload_result.value:\n",
    "            print(\"Please upload a Schedule_results.xlsx file first.\")\n",
    "            return\n",
    "        try:\n",
    "            fname = Utils.save_uploaded_file(upload_result, mode='check')\n",
    "            print(\"Saved uploaded results as\", fname)\n",
    "\n",
    "            # Run your check pipeline → return path of generated file\n",
    "            result_file = Utils.run_check_pipeline(fname)\n",
    "\n",
    "            print(\"✅ Check complete.\")\n",
    "            display(HTML(f'<a href=\"{result_file}\" download>⬇️ Download Check Report</a>'))\n",
    "\n",
    "        except Exception as e:\n",
    "            print(\"❌ Error during check:\")\n",
    "            traceback.print_exc()\n",
    "\n",
    "# connect buttons\n",
    "run_btn.on_click(on_run_clicked)\n",
    "check_btn.on_click(on_check_clicked)\n"
   ]
  }
 ],
 "metadata": {
  "kernelspec": {
   "display_name": "Python 3 (ipykernel)",
   "language": "python",
   "name": "python3"
  },
  "language_info": {
   "codemirror_mode": {
    "name": "ipython",
    "version": 3
   },
   "file_extension": ".py",
   "mimetype": "text/x-python",
   "name": "python",
   "nbconvert_exporter": "python",
   "pygments_lexer": "ipython3",
   "version": "3.8.18"
  }
 },
 "nbformat": 4,
 "nbformat_minor": 5
}
