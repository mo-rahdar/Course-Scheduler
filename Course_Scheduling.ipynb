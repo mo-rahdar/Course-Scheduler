{
 "cells": [
  {
   "cell_type": "markdown",
   "id": "3ee3d587-7ed9-43be-9195-563c9ab71869",
   "metadata": {},
   "source": [
    "<div class='alert alert-info'>\n",
    "    <h1 align=\"center\">Course Scheduler</h1>\n",
    "    <h3 align=\"center\">Mohammad Rahdar</h3>    \n",
    "</div>\n",
    "\n",
    "Welcome to the **Course Scheduler App**! 🎓  \n",
    "\n",
    "<u><a href=\"https://github.com/mo-rahdar/Course-Scheduler/\" target=\"_blank\">GitHub Link</a></u> \r\n",
    "\r\n",
    "- Upload your **Courses_info.xlsx** file using the button below.  \r\n",
    "- Click **Run Scheduler** to generate an optimized course schedule.  \r\n",
    "- The results will include:  \r\n",
    "  - A saved file `Schedule_results.xlsx` with the schedule.  \r\n",
    "  - Plots showing course assignments, conflicts, and available meeting times.  \r\n",
    "\r\n",
    "👉 Once finished, you can download and optionally modify the schedule.  \r\n",
    "If you make changes, use the **Schedule Checker App** (see Binder link in README) to validate your edits.\r\n"
   ]
  },
  {
   "cell_type": "code",
   "execution_count": 1,
   "id": "67b86ba6-9670-421d-8711-09aa940543e9",
   "metadata": {},
   "outputs": [
    {
     "data": {
      "application/vnd.jupyter.widget-view+json": {
       "model_id": "de64c9e003514eb7a659f8843d20a3a6",
       "version_major": 2,
       "version_minor": 0
      },
      "text/plain": [
       "HTML(value='<h3>1️⃣ Generate a Schedule</h3>')"
      ]
     },
     "metadata": {},
     "output_type": "display_data"
    },
    {
     "data": {
      "application/vnd.jupyter.widget-view+json": {
       "model_id": "a3a3f0c29c6b48e19654e4cb8e03c7f1",
       "version_major": 2,
       "version_minor": 0
      },
      "text/plain": [
       "FileUpload(value=(), accept='.xlsx', description='Upload Input Excel')"
      ]
     },
     "metadata": {},
     "output_type": "display_data"
    },
    {
     "data": {
      "application/vnd.jupyter.widget-view+json": {
       "model_id": "8ea8ca07d51847b78425d26c2d38eaa4",
       "version_major": 2,
       "version_minor": 0
      },
      "text/plain": [
       "Button(button_style='success', description='Run Scheduler', style=ButtonStyle())"
      ]
     },
     "metadata": {},
     "output_type": "display_data"
    },
    {
     "data": {
      "application/vnd.jupyter.widget-view+json": {
       "model_id": "5c26ac06d747458da1a1c73604dd061f",
       "version_major": 2,
       "version_minor": 0
      },
      "text/plain": [
       "HTML(value='<h3>2️⃣ Check a Modified Schedule</h3>')"
      ]
     },
     "metadata": {},
     "output_type": "display_data"
    },
    {
     "data": {
      "application/vnd.jupyter.widget-view+json": {
       "model_id": "de0755e8aaa2450aa2d568b1cd67a534",
       "version_major": 2,
       "version_minor": 0
      },
      "text/plain": [
       "FileUpload(value=(), accept='.xlsx', description='Upload Results Excel')"
      ]
     },
     "metadata": {},
     "output_type": "display_data"
    },
    {
     "data": {
      "application/vnd.jupyter.widget-view+json": {
       "model_id": "123241661c954c5ba873408eb2072cf0",
       "version_major": 2,
       "version_minor": 0
      },
      "text/plain": [
       "Button(button_style='info', description='Check Schedule', style=ButtonStyle())"
      ]
     },
     "metadata": {},
     "output_type": "display_data"
    },
    {
     "data": {
      "application/vnd.jupyter.widget-view+json": {
       "model_id": "902fcf07de6b4d8893f104b9d31e087b",
       "version_major": 2,
       "version_minor": 0
      },
      "text/plain": [
       "Output()"
      ]
     },
     "metadata": {},
     "output_type": "display_data"
    }
   ],
   "source": [
    "import traceback\n",
    "from IPython.display import FileLink, display, clear_output\n",
    "import ipywidgets as widgets\n",
    "import Utils\n",
    "\n",
    "# Widgets\n",
    "upload_input = widgets.FileUpload(accept='.xlsx', multiple=False, description='Upload Input Excel')\n",
    "run_btn = widgets.Button(description='Run Scheduler', button_style='success')\n",
    "\n",
    "upload_result = widgets.FileUpload(accept='.xlsx', multiple=False, description='Upload Results Excel')\n",
    "check_btn = widgets.Button(description='Check Schedule', button_style='info')\n",
    "\n",
    "out = widgets.Output()\n",
    "\n",
    "# Display both workflows\n",
    "display(widgets.HTML(\"<h3>1️⃣ Generate a Schedule</h3>\"))\n",
    "display(upload_input, run_btn)\n",
    "\n",
    "display(widgets.HTML(\"<h3>2️⃣ Check a Modified Schedule</h3>\"))\n",
    "display(upload_result, check_btn)\n",
    "\n",
    "display(out)\n",
    "\n",
    "# Callbacks\n",
    "def on_run_clicked(b):\n",
    "    with out:\n",
    "        clear_output()\n",
    "        if not upload_input.value:\n",
    "            print(\"Please upload an Excel (.xlsx) file first.\")\n",
    "            return\n",
    "        try:\n",
    "            fname = Utils.save_uploaded_file(upload_input, mode='scheduler')\n",
    "            print(\"Saved uploaded file as\", fname)\n",
    "\n",
    "            # Run pipeline\n",
    "            Utils.run_pipeline(fname)\n",
    "\n",
    "        except Exception as e:\n",
    "            print(\"❌ Error during run:\")\n",
    "            traceback.print_exc()\n",
    "\n",
    "def on_check_clicked(b):\n",
    "    with out:\n",
    "        clear_output()\n",
    "        if not upload_result.value:\n",
    "            print(\"Please upload a Schedule_results.xlsx file first.\")\n",
    "            return\n",
    "        try:\n",
    "            fname = Utils.save_uploaded_file(upload_result, mode='check')\n",
    "            print(\"Saved uploaded results as\", fname)\n",
    "\n",
    "            # Run check pipeline\n",
    "            Utils.run_check_pipeline(fname)\n",
    "\n",
    "        except Exception as e:\n",
    "            print(\"❌ Error during check:\")\n",
    "            traceback.print_exc()\n",
    "\n",
    "# Connect buttons\n",
    "run_btn.on_click(on_run_clicked)\n",
    "check_btn.on_click(on_check_clicked)"
   ]
  }
 ],
 "metadata": {
  "kernelspec": {
   "display_name": "Python 3 (ipykernel)",
   "language": "python",
   "name": "python3"
  },
  "language_info": {
   "codemirror_mode": {
    "name": "ipython",
    "version": 3
   },
   "file_extension": ".py",
   "mimetype": "text/x-python",
   "name": "python",
   "nbconvert_exporter": "python",
   "pygments_lexer": "ipython3",
   "version": "3.8.18"
  }
 },
 "nbformat": 4,
 "nbformat_minor": 5
}
