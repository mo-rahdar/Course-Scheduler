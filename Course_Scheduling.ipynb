{
 "cells": [
  {
   "cell_type": "markdown",
   "id": "3ee3d587-7ed9-43be-9195-563c9ab71869",
   "metadata": {},
   "source": [
    "<div class='alert alert-info'>\n",
    "    <h1 align=\"center\">Course Scheduler</h1>\n",
    "    <h3 align=\"center\">Mohammad Rahdar</h3>\n",
    "</div>\n",
    "\r\n",
    "Welcome to the **Course Scheduler App**! 🎓  \r\n",
    "\r\n",
    "- Upload your **Courses_info.xlsx** file using the button below.  \r\n",
    "- Click **Run Scheduler** to generate an optimized course schedule.  \r\n",
    "- The results will include:  \r\n",
    "  - A saved file `Schedule_results.xlsx` with the schedule.  \r\n",
    "  - Plots showing course assignments, conflicts, and available meeting times.  \r\n",
    "\r\n",
    "👉 Once finished, you can download and optionally modify the schedule.  \r\n",
    "If you make changes, use the **Schedule Checker App** (see Binder link in README) to validate your edits.\r\n",
   ]
  },
  {
   "cell_type": "code",
   "execution_count": 44,
   "id": "0b1a69fb-2538-4cfb-bcfa-1e39f058c7b8",
   "metadata": {},
   "outputs": [
    {
     "data": {
      "application/vnd.jupyter.widget-view+json": {
       "model_id": "df16850c1a104d9eb546a7535610d053",
       "version_major": 2,
       "version_minor": 0
      },
      "text/plain": [
       "HBox(children=(VBox(children=(HTML(value='<h3>1️⃣ Generate a Schedule</h3>'), FileUpload(value=(), accept='.xl…"
      ]
     },
     "metadata": {},
     "output_type": "display_data"
    },
    {
     "data": {
      "application/vnd.jupyter.widget-view+json": {
       "model_id": "102ebd968d0243b789ff71b4ced3261d",
       "version_major": 2,
       "version_minor": 0
      },
      "text/plain": [
       "Output()"
      ]
     },
     "metadata": {},
     "output_type": "display_data"
    }
   ],
   "source": [
    "import traceback\n",
    "from IPython.display import display, clear_output\n",
    "import ipywidgets as widgets\n",
    "import Utils\n",
    "\n",
    "# Widgets\n",
    "\n",
    "upload_input = widgets.FileUpload(accept='.xlsx', multiple=False, description='Upload Input Excel')\n",
    "run_btn = widgets.Button(description='Run Scheduler', button_style='success')\n",
    "\n",
    "upload_result = widgets.FileUpload(accept='.xlsx', multiple=False, description='Upload Results Excel')\n",
    "check_btn = widgets.Button(description='Check Schedule', button_style='info')\n",
    "\n",
    "out = widgets.Output()\n",
    "\n",
    "# Display both workflows\n",
    "display(widgets.HTML(\"<h3>1️⃣ Generate a Schedule</h3>\"))\n",
    "display(upload_input, run_btn)\n",
    "display(widgets.HTML(\"<h3>2️⃣ Check a Modified Schedule</h3>\"))\n",
    "display(upload_result, check_btn)\n",
    "display(out)\n",
    "\n",
    "# callbacks\n",
    "def on_run_clicked(b):\n",
    "    with out:\n",
    "        clear_output()\n",
    "        if not upload_input.value:\n",
    "            print(\"Please upload an Excel (.xlsx) file first.\")\n",
    "            return\n",
    "        try:\n",
    "            fname = Utils.save_uploaded_file(upload_input, mode='scheduler')\n",
    "            # fname = Utils.save_uploaded_file(upload)\n",
    "            print(\"Saved uploaded file as\", fname)\n",
    "            \n",
    "            # Run your pipeline\n",
    "            Utils.run_pipeline(fname)\n",
    "\n",
    "        except Exception as e:\n",
    "            print(\"❌ Error during run:\")\n",
    "            traceback.print_exc()\n",
    "\n",
    "def on_check_clicked(b):\n",
    "    with out:\n",
    "        clear_output()\n",
    "        if not upload_result.value:\n",
    "            print(\"Please upload a Schedule_results.xlsx file first.\")\n",
    "            return\n",
    "        try:\n",
    "            fname = Utils.save_uploaded_file(upload_result, mode='check')\n",
    "            print(\"Saved uploaded results as\", fname)\n",
    "            \n",
    "            # Call your check pipeline\n",
    "            Utils.run_check_pipeline(fname)\n",
    "        except Exception as e:\n",
    "            print(\"❌ Error during check:\")\n",
    "            traceback.print_exc()\n",
    "\n",
    "# connect button to function\n",
    "run_btn.on_click(on_run_clicked)\n",
    "check_btn.on_click(on_check_clicked)"
   ]
  },
  {
   "cell_type": "code",
   "execution_count": null,
   "id": "00210b8c-3233-4b25-8fe0-9cf03706184f",
   "metadata": {},
   "outputs": [],
   "source": []
  }
 ],
 "metadata": {
  "kernelspec": {
   "display_name": "Python 3 (ipykernel)",
   "language": "python",
   "name": "python3"
  },
  "language_info": {
   "codemirror_mode": {
    "name": "ipython",
    "version": 3
   },
   "file_extension": ".py",
   "mimetype": "text/x-python",
   "name": "python",
   "nbconvert_exporter": "python",
   "pygments_lexer": "ipython3",
   "version": "3.8.18"
  }
 },
 "nbformat": 4,
 "nbformat_minor": 5
}
