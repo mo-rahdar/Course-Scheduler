{
 "cells": [
  {
   "cell_type": "markdown",
   "id": "3ee3d587-7ed9-43be-9195-563c9ab71869",
   "metadata": {},
   "source": [
    "<div class='alert alert-info'>\n",
    "    <h1 align=\"center\">Course Scheduler</h1>\n",
    "    <h3 align=\"center\">Mohammad Rahdar</h3>    \n",
    "</div>\n",
    "\n",
    "Welcome to the **Course Scheduler App**! 🎓  \n",
    "\n",
    "<u><a href=\"https://github.com/mo-rahdar/Course-Scheduler/\" target=\"_blank\">GitHub Link</a></u> \n",
    "\n",
    "1. **Upload Files**\n",
    "    - **Upload Input Excel (required)**: Upload your `Courses_info.xlsx` file.\n",
    "    - **Upload Schedule Excel (optional)**: If you already have a schedule (e.g., from a previous run or after making edits), you can upload `Schedule_results.xlsx` here to check or refine it.\n",
    "2. **Run Scheduler**\n",
    "    - If you only uploaded the **Input Excel**, click **Run Scheduler** to generate an optimized course schedule.\n",
    "    - The app will save a new `Schedule_results.xlsx` file, provide a link to download, and display plots showing:\n",
    "        - Course assignments\n",
    "        - Conflicts\n",
    "        - Available meeting times\n",
    "3. **Check or Modify a Schedule**\n",
    "    - If you upload **both the Input Excel and the Schedule Excel**, you can validate or recheck an existing schedule without running the full scheduler.\n",
    "    - This is useful if you downloaded a schedule, modified it, and want to ensure it still meets requirements."
   ]
  },
  {
   "cell_type": "code",
   "execution_count": 23,
   "id": "d4907292-23be-4b8b-8186-bb4069a00c96",
   "metadata": {},
   "outputs": [
    {
     "data": {
      "application/vnd.jupyter.widget-view+json": {
       "model_id": "f0412140cae24d6a8f4935ad6f015650",
       "version_major": 2,
       "version_minor": 0
      },
      "text/plain": [
       "VBox(children=(FileUpload(value=(), accept='.xlsx', description='Upload Input Excel - Required', layout=Layout…"
      ]
     },
     "metadata": {},
     "output_type": "display_data"
    },
    {
     "data": {
      "application/vnd.jupyter.widget-view+json": {
       "model_id": "dc509a5fe8654b44bf90a8c2234f730b",
       "version_major": 2,
       "version_minor": 0
      },
      "text/plain": [
       "HBox(children=(Button(button_style='success', description='▶️ Run Scheduler', style=ButtonStyle()), Button(but…"
      ]
     },
     "metadata": {},
     "output_type": "display_data"
    },
    {
     "data": {
      "application/vnd.jupyter.widget-view+json": {
       "model_id": "fe7e2743e52043a9902f7248071d4b71",
       "version_major": 2,
       "version_minor": 0
      },
      "text/plain": [
       "Output()"
      ]
     },
     "metadata": {},
     "output_type": "display_data"
    }
   ],
   "source": [
    "import traceback\n",
    "from IPython.display import FileLink, display, clear_output\n",
    "import ipywidgets as widgets\n",
    "import Utils\n",
    "\n",
    "# --- Widgets ---\n",
    "upload_input = widgets.FileUpload(\n",
    "    accept='.xlsx',\n",
    "    multiple=False,\n",
    "    description='Upload Input Excel - Required',\n",
    "    layout=widgets.Layout(width='245px')    \n",
    ")\n",
    "\n",
    "upload_result = widgets.FileUpload(\n",
    "    accept='.xlsx',\n",
    "    multiple=False,\n",
    "    description='Upload Results Excel - Optional',\n",
    "    layout=widgets.Layout(width='245px')\n",
    ")\n",
    "\n",
    "run_btn = widgets.Button(description='▶️ Run Scheduler', button_style='success')\n",
    "check_btn = widgets.Button(description='🔍 Check Schedule', button_style='info')\n",
    "\n",
    "out = widgets.Output()\n",
    "\n",
    "file_box = widgets.VBox([\n",
    "    upload_input,\n",
    "    upload_result,\n",
    "    widgets.HTML(\"<i>👉 Upload only the input file for scheduling.<br>👉 Upload both input + results file if you only want to check.<br><br></i>\")\n",
    "])\n",
    "\n",
    "button_box = widgets.HBox([run_btn, check_btn])\n",
    "\n",
    "display(file_box, button_box, out)\n",
    "\n",
    "\n",
    "# --- Connect Buttons ---\n",
    "run_btn.on_click(Utils.on_run_clicked)\n",
    "check_btn.on_click(Utils.on_check_clicked)\n"
   ]
  }
 ],
 "metadata": {
  "kernelspec": {
   "display_name": "Python 3 (ipykernel)",
   "language": "python",
   "name": "python3"
  },
  "language_info": {
   "codemirror_mode": {
    "name": "ipython",
    "version": 3
   },
   "file_extension": ".py",
   "mimetype": "text/x-python",
   "name": "python",
   "nbconvert_exporter": "python",
   "pygments_lexer": "ipython3",
   "version": "3.8.18"
  }
 },
 "nbformat": 4,
 "nbformat_minor": 5
}
