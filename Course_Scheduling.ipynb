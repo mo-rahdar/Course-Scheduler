{
 "cells": [
  {
   "cell_type": "markdown",
   "id": "3ee3d587-7ed9-43be-9195-563c9ab71869",
   "metadata": {},
   "source": [
    "<div class='alert alert-info'>\n",
    "    <h1 align=\"center\">Course Scheduler</h1>\n",
    "    <h3 align=\"center\">Mohammad Rahdar</h3>    \n",
    "</div>\n",
    "\n",
    "Welcome to the **Course Scheduler App**! 🎓  \n",
    "\n",
    "<u><a href=\"https://github.com/mo-rahdar/Course-Scheduler/\" target=\"_blank\">GitHub Link</a></u> \n",
    "\n",
    "- Upload your **Courses_info.xlsx** file using the button below.  \n",
    "- Click **Run Scheduler** to generate an optimized course schedule.  \n",
    "- The results will include:  \n",
    "  - A saved file `Schedule_results.xlsx` with the schedule.  \n",
    "  - Plots showing course assignments, conflicts, and available meeting times.  \n",
    "\n",
    "👉 Once finished, you can download and optionally modify the schedule.  \n",
    "If you make changes, use the **Schedule Checker App** to validate your edits.\n"
   ]
  },
  {
   "cell_type": "code",
   "execution_count": 5,
   "id": "d4907292-23be-4b8b-8186-bb4069a00c96",
   "metadata": {},
   "outputs": [
    {
     "data": {
      "text/html": [
       "<h2>📅 Course Scheduling Tool</h2>"
      ],
      "text/plain": [
       "<IPython.core.display.HTML object>"
      ]
     },
     "metadata": {},
     "output_type": "display_data"
    },
    {
     "data": {
      "text/html": [
       "<p><b>Step 1:</b> Upload the <u>input Excel file</u> (mandatory).<br><b>Step 2:</b> To run the scheduler, just click <b>Run Scheduler</b>.<br><b>Step 3:</b> If you want to check a modified schedule, upload the <u>results file</u> too, then click <b>Check Schedule</b>.</p>"
      ],
      "text/plain": [
       "<IPython.core.display.HTML object>"
      ]
     },
     "metadata": {},
     "output_type": "display_data"
    },
    {
     "data": {
      "application/vnd.jupyter.widget-view+json": {
       "model_id": "7997717cf4734bf69db5029860e9dfc0",
       "version_major": 2,
       "version_minor": 0
      },
      "text/plain": [
       "VBox(children=(FileUpload(value=(), accept='.xlsx', description='Upload Input Excel (Required)'), FileUpload(v…"
      ]
     },
     "metadata": {},
     "output_type": "display_data"
    },
    {
     "data": {
      "application/vnd.jupyter.widget-view+json": {
       "model_id": "a26aafa1a2e44ce7924ea95d269e7f07",
       "version_major": 2,
       "version_minor": 0
      },
      "text/plain": [
       "HBox(children=(Button(button_style='success', description='▶️ Run Scheduler', style=ButtonStyle()), Button(but…"
      ]
     },
     "metadata": {},
     "output_type": "display_data"
    },
    {
     "data": {
      "application/vnd.jupyter.widget-view+json": {
       "model_id": "ba862aff9a9b48dda432cda77918415a",
       "version_major": 2,
       "version_minor": 0
      },
      "text/plain": [
       "Output()"
      ]
     },
     "metadata": {},
     "output_type": "display_data"
    }
   ],
   "source": [
    "import traceback\n",
    "from IPython.display import FileLink, display, clear_output, HTML\n",
    "import ipywidgets as widgets\n",
    "import Utils\n",
    "\n",
    "# --- Widgets ---\n",
    "upload_input = widgets.FileUpload(\n",
    "    accept='.xlsx',\n",
    "    multiple=False,\n",
    "    description='Upload Input Excel (Required)'\n",
    ")\n",
    "\n",
    "upload_result = widgets.FileUpload(\n",
    "    accept='.xlsx',\n",
    "    multiple=False,\n",
    "    description='Upload Results Excel (Optional)'\n",
    ")\n",
    "\n",
    "run_btn = widgets.Button(description='▶️ Run Scheduler', button_style='success')\n",
    "check_btn = widgets.Button(description='🔍 Check Schedule', button_style='info')\n",
    "\n",
    "out = widgets.Output()\n",
    "\n",
    "# --- Interface Layout ---\n",
    "display(HTML(\"<h2>📅 Course Scheduling Tool</h2>\"))\n",
    "display(HTML(\"<p><b>Step 1:</b> Upload the <u>input Excel file</u> (mandatory).<br>\"\n",
    "             \"<b>Step 2:</b> To run the scheduler, just click <b>Run Scheduler</b>.<br>\"\n",
    "             \"<b>Step 3:</b> If you want to check a modified schedule, upload the <u>results file</u> too, then click <b>Check Schedule</b>.</p>\"))\n",
    "\n",
    "file_box = widgets.VBox([\n",
    "    upload_input,\n",
    "    upload_result,\n",
    "    widgets.HTML(\"<i>Hint: Upload only the input file for scheduling. \"\n",
    "                 \"Upload both input + results file if you only want to check.</i>\")\n",
    "])\n",
    "\n",
    "button_box = widgets.HBox([run_btn, check_btn])\n",
    "\n",
    "display(file_box, button_box, out)\n",
    "\n",
    "# --- Callbacks ---\n",
    "def on_run_clicked(b):\n",
    "    with out:\n",
    "        clear_output()\n",
    "        if not upload_input.value:\n",
    "            print(\"❌ Please upload an input Excel file first.\")\n",
    "            return\n",
    "        try:\n",
    "            fname = Utils.save_uploaded_file(upload_input, mode='scheduler')\n",
    "            print(\"✅ Input file saved as:\", fname)\n",
    "\n",
    "            # Run scheduler pipeline\n",
    "            result_file = Utils.run_pipeline(fname)\n",
    "\n",
    "        except Exception as e:\n",
    "            print(\"❌ Error during scheduling:\")\n",
    "            traceback.print_exc()\n",
    "\n",
    "def on_check_clicked(b):\n",
    "    with out:\n",
    "        clear_output()\n",
    "        if not upload_input.value:\n",
    "            print(\"❌ Please upload the input Excel file first.\")\n",
    "            return\n",
    "        if not upload_result.value:\n",
    "            print(\"❌ Please upload a results Excel file to check.\")\n",
    "            return\n",
    "        try:\n",
    "            input_fname = Utils.save_uploaded_file(upload_input, mode='scheduler')\n",
    "            result_fname = Utils.save_uploaded_file(upload_result, mode='check')\n",
    "\n",
    "            print(\"✅ Files ready.\")\n",
    "            print(\"   Input file:\", input_fname)\n",
    "            print(\"   Results file:\", result_fname)\n",
    "\n",
    "            # Run check pipeline\n",
    "            Utils.run_check_pipeline(result_fname, input_filename=input_fname)\n",
    "\n",
    "        except Exception as e:\n",
    "            print(\"❌ Error during check:\")\n",
    "            traceback.print_exc()\n",
    "\n",
    "# --- Connect Buttons ---\n",
    "run_btn.on_click(on_run_clicked)\n",
    "check_btn.on_click(on_check_clicked)\n"
   ]
  },
  {
   "cell_type": "markdown",
   "id": "6f016b49-caa6-4177-8484-467c1f40a167",
   "metadata": {},
   "source": [
    "import traceback\n",
    "from IPython.display import FileLink, display, clear_output, HTML\n",
    "import ipywidgets as widgets\n",
    "import Utils\n",
    "\n",
    "# Widgets\n",
    "upload_input = widgets.FileUpload(accept='.xlsx', multiple=False, description='Upload Input Excel')\n",
    "run_btn = widgets.Button(description='Run Scheduler', button_style='success')\n",
    "\n",
    "upload_result = widgets.FileUpload(accept='.xlsx', multiple=False, description='Upload Results Excel')\n",
    "check_btn = widgets.Button(description='Check Schedule', button_style='info')\n",
    "\n",
    "out = widgets.Output()\n",
    "\n",
    "# Display both workflows\n",
    "display(widgets.HTML(\"<h3>1️⃣ Generate a Schedule</h3>\"))\n",
    "display(upload_input, run_btn)\n",
    "\n",
    "display(widgets.HTML(\"<h3>2️⃣ Check a Modified Schedule</h3>\"))\n",
    "display(upload_result, check_btn)\n",
    "\n",
    "display(out)\n",
    "\n",
    "# Callbacks\n",
    "def on_run_clicked(b):\n",
    "    with out:\n",
    "        clear_output()\n",
    "        if not upload_input.value:\n",
    "            print(\"Please upload an Excel (.xlsx) file first.\")\n",
    "            return\n",
    "        try:\n",
    "            fname = Utils.save_uploaded_file(upload_input, mode='scheduler')\n",
    "            print(\"Saved uploaded file as\", fname)\n",
    "\n",
    "            # Run pipeline\n",
    "            Utils.run_pipeline(fname)\n",
    "\n",
    "        except Exception as e:\n",
    "            print(\"❌ Error during run:\")\n",
    "            traceback.print_exc()\n",
    "\n",
    "def on_check_clicked(b):\n",
    "    with out:\n",
    "        clear_output()\n",
    "        if not upload_result.value:\n",
    "            print(\"Please upload a Schedule_results.xlsx file first.\")\n",
    "            return\n",
    "        try:\n",
    "            fname = Utils.save_uploaded_file(upload_result, mode='check')\n",
    "            print(\"Saved uploaded results as\", fname)\n",
    "\n",
    "            # Run check pipeline\n",
    "            Utils.run_check_pipeline(fname)\n",
    "\n",
    "        except Exception as e:\n",
    "            print(\"❌ Error during check:\")\n",
    "            traceback.print_exc()\n",
    "\n",
    "# Connect buttons\n",
    "run_btn.on_click(on_run_clicked)\n",
    "check_btn.on_click(on_check_clicked)"
   ]
  }
 ],
 "metadata": {
  "kernelspec": {
   "display_name": "Python 3 (ipykernel)",
   "language": "python",
   "name": "python3"
  },
  "language_info": {
   "codemirror_mode": {
    "name": "ipython",
    "version": 3
   },
   "file_extension": ".py",
   "mimetype": "text/x-python",
   "name": "python",
   "nbconvert_exporter": "python",
   "pygments_lexer": "ipython3",
   "version": "3.8.18"
  }
 },
 "nbformat": 4,
 "nbformat_minor": 5
}
